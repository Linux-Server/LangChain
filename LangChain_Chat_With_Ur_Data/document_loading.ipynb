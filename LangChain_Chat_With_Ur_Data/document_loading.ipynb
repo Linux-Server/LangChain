{
 "cells": [
  {
   "cell_type": "markdown",
   "metadata": {},
   "source": [
    " ### Chat With Your Data\n",
    "  - Inorder to create an LLM application, that can chat with ur data, you first have to load the data into a format\n",
    "  - Thats where langchain document loader comes into play\n",
    "  - The data can come from variety of sources, website,database,youtube,arXiv and its datatype can be pdf,html,json etc\n",
    "  - The role of document loader is to take this varity od data format and make it as a `Document Object`"
   ]
  },
  {
   "cell_type": "code",
   "execution_count": null,
   "metadata": {},
   "outputs": [],
   "source": [
    "import os\n",
    "import openai\n",
    "import sys\n",
    "sys.path.append('../..')\n",
    "\n",
    "from dotenv import load_dotenv, find_dotenv\n",
    "_ = load_dotenv(find_dotenv()) # read local .env file\n",
    "\n",
    "openai.api_key  = os.environ['OPENAI_API_KEY']"
   ]
  },
  {
   "cell_type": "markdown",
   "metadata": {},
   "source": [
    "First , we are going to work with pdf document, so import the relevant library from langchain document loader"
   ]
  },
  {
   "cell_type": "code",
   "execution_count": null,
   "metadata": {},
   "outputs": [
    {
     "data": {
      "text/plain": [
       "[Document(metadata={'source': '../pdf/JAVASCRIPT  QUESTIONS (1).pdf', 'page': 0}, page_content='JAVASCRIPT  QUESTIONS  \\n \\n1. Write a JavaScript program to shuffle an array . \\n2. Write a function to reverse an array.  \\n \\n  EXAMPLE:  \\n  revers e([1, 2, 3, 4]) ➞ [4, 3, 2, 1]  \\n  reverse([9, 9, 2, 3, 4]) ➞ [4, 3, 2, 9, 9]  \\n \\n3. Create a function that takes an array of numbers and returns the  second largest  number.  \\n \\n  EXAMPLE  \\n  secondLarges t([10, 40, 30, 20, 50]) ➞ 40 \\n \\n4. Write a JavaScript function to capitalize the first letter of a string . \\n \\n5. Write  a function that converts an object into an a rray of keys and values.  \\n \\n6. Write a JavaScript program to delete the rollno property from the following object . \\n     name : \"David Rayy\" , \\n     sclass : \"VI\" , \\n     rollno : 1 2  \\n \\n7. Create a fun ction that returns  true  if the first array is a  subset  of the second. \\nReturn  false  otherwise .                                                                    \\n \\n   EXAMPL E \\n   isSubset([3, 2, 5], [5, 3, 7, 9, 2]) ➞ true  \\n   isSubset([8, 9], [7, 1, 9, 8, 4, 5, 6]) ➞ true  \\n   isSubset([1, 2], [3, 5, 9, 1]) ➞ false  \\n \\n \\n8. Write a JS cod e to print a pattern using for loop  \\n \\n* \\n** \\n* * \\n*  * \\n*   * \\n****** \\n '),\n",
       " Document(metadata={'source': '../pdf/JAVASCRIPT  QUESTIONS (1).pdf', 'page': 1}, page_content=\"9. What will be the output o f the following code?  \\n \\n   const res = ['1', '1a', '0', -1, true,  \\n   false].map(Number).filter(Boolean);   \\n    console.log(res);  \\n \\n10.  JavaScript Program to Sort Words in Alphabetical Order  \\n  \"),\n",
       " Document(metadata={'source': '../pdf/JAVASCRIPT  QUESTIONS (1).pdf', 'page': 2}, page_content=' \\n ')]"
      ]
     },
     "execution_count": 28,
     "metadata": {},
     "output_type": "execute_result"
    }
   ],
   "source": [
    "from langchain.document_loaders import PyPDFLoader\n",
    "\n",
    "loader_data = PyPDFLoader(\"../pdf/JAVASCRIPT  QUESTIONS (1).pdf\")\n",
    "\n",
    "pages = loader_data.load()\n",
    "\n",
    "pages\n",
    "\n"
   ]
  },
  {
   "cell_type": "code",
   "execution_count": null,
   "metadata": {},
   "outputs": [
    {
     "data": {
      "text/plain": [
       "3"
      ]
     },
     "execution_count": 29,
     "metadata": {},
     "output_type": "execute_result"
    }
   ],
   "source": [
    "len(pages)"
   ]
  },
  {
   "cell_type": "code",
   "execution_count": null,
   "metadata": {},
   "outputs": [
    {
     "data": {
      "text/plain": [
       "Document(metadata={'source': '../pdf/JAVASCRIPT  QUESTIONS (1).pdf', 'page': 0}, page_content='JAVASCRIPT  QUESTIONS  \\n \\n1. Write a JavaScript program to shuffle an array . \\n2. Write a function to reverse an array.  \\n \\n  EXAMPLE:  \\n  revers e([1, 2, 3, 4]) ➞ [4, 3, 2, 1]  \\n  reverse([9, 9, 2, 3, 4]) ➞ [4, 3, 2, 9, 9]  \\n \\n3. Create a function that takes an array of numbers and returns the  second largest  number.  \\n \\n  EXAMPLE  \\n  secondLarges t([10, 40, 30, 20, 50]) ➞ 40 \\n \\n4. Write a JavaScript function to capitalize the first letter of a string . \\n \\n5. Write  a function that converts an object into an a rray of keys and values.  \\n \\n6. Write a JavaScript program to delete the rollno property from the following object . \\n     name : \"David Rayy\" , \\n     sclass : \"VI\" , \\n     rollno : 1 2  \\n \\n7. Create a fun ction that returns  true  if the first array is a  subset  of the second. \\nReturn  false  otherwise .                                                                    \\n \\n   EXAMPL E \\n   isSubset([3, 2, 5], [5, 3, 7, 9, 2]) ➞ true  \\n   isSubset([8, 9], [7, 1, 9, 8, 4, 5, 6]) ➞ true  \\n   isSubset([1, 2], [3, 5, 9, 1]) ➞ false  \\n \\n \\n8. Write a JS cod e to print a pattern using for loop  \\n \\n* \\n** \\n* * \\n*  * \\n*   * \\n****** \\n ')"
      ]
     },
     "execution_count": 30,
     "metadata": {},
     "output_type": "execute_result"
    }
   ],
   "source": [
    "pages[0]"
   ]
  },
  {
   "cell_type": "code",
   "execution_count": null,
   "metadata": {},
   "outputs": [
    {
     "data": {
      "text/plain": [
       "{'source': '../pdf/JAVASCRIPT  QUESTIONS (1).pdf', 'page': 0}"
      ]
     },
     "execution_count": 31,
     "metadata": {},
     "output_type": "execute_result"
    }
   ],
   "source": [
    "pages[0].metadata"
   ]
  },
  {
   "cell_type": "code",
   "execution_count": null,
   "metadata": {},
   "outputs": [
    {
     "data": {
      "text/plain": [
       "'JAVASCRIPT  QUESTIONS  \\n \\n1. Write a JavaScript program to shuffle an array . \\n2. Write a function to reverse an array.  \\n \\n  EXAMPLE:  \\n  revers e([1, 2, 3, 4]) ➞ [4, 3, 2, 1]  \\n  reverse([9, 9, 2, 3, 4]) ➞ [4, 3, 2, 9, 9]  \\n \\n3. Create a function that takes an array of numbers and returns the  second largest  number.  \\n \\n  EXAMPLE  \\n  secondLarges t([10, 40, 30, 20, 50]) ➞ 40 \\n \\n4. Write a JavaScript function to capitalize the first letter of a string . \\n \\n5. Write  a function that converts an object into an a rray of keys and values.  \\n \\n6. Write a JavaScript program to delete the rollno property from the following object . \\n     name : \"David Rayy\" , \\n     sclass : \"VI\" , \\n     rollno : 1 2  \\n \\n7. Create a fun ction that returns  true  if the first array is a  subset  of the second. \\nReturn  false  otherwise .                                                                    \\n \\n   EXAMPL E \\n   isSubset([3, 2, 5], [5, 3, 7, 9, 2]) ➞ true  \\n   isSubset([8, 9], [7, 1, 9, 8, 4, 5, 6]) ➞ true  \\n   isSubset([1, 2], [3, 5, 9, 1]) ➞ false  \\n \\n \\n8. Write a JS cod e to print a pattern using for loop  \\n \\n* \\n** \\n* * \\n*  * \\n*   * \\n****** \\n '"
      ]
     },
     "execution_count": 32,
     "metadata": {},
     "output_type": "execute_result"
    }
   ],
   "source": [
    "pages[0].page_content"
   ]
  },
  {
   "cell_type": "code",
   "execution_count": null,
   "metadata": {},
   "outputs": [
    {
     "data": {
      "text/plain": [
       "'JAVA'"
      ]
     },
     "execution_count": 33,
     "metadata": {},
     "output_type": "execute_result"
    }
   ],
   "source": [
    "pages[0].page_content[:4]"
   ]
  },
  {
   "cell_type": "code",
   "execution_count": null,
   "metadata": {},
   "outputs": [],
   "source": [
    "from langchain.document_loaders.generic import GenericLoader\n",
    "from langchain.document_loaders.parsers import OpenAIWhisperParser\n",
    "from langchain.document_loaders.blob_loaders.youtube_audio import YoutubeAudioLoader\n",
    "\n"
   ]
  },
  {
   "cell_type": "code",
   "execution_count": null,
   "metadata": {},
   "outputs": [
    {
     "ename": "ImportError",
     "evalue": "yt_dlp package not found, please install it with `pip install yt_dlp`",
     "output_type": "error",
     "traceback": [
      "\u001b[0;31m---------------------------------------------------------------------------\u001b[0m",
      "\u001b[0;31mModuleNotFoundError\u001b[0m                       Traceback (most recent call last)",
      "File \u001b[0;32m/opt/homebrew/Caskroom/miniconda/base/envs/myenv/lib/python3.10/site-packages/langchain_community/document_loaders/blob_loaders/youtube_audio.py:21\u001b[0m, in \u001b[0;36mYoutubeAudioLoader.yield_blobs\u001b[0;34m(self)\u001b[0m\n\u001b[1;32m     20\u001b[0m \u001b[39mtry\u001b[39;00m:\n\u001b[0;32m---> 21\u001b[0m     \u001b[39mimport\u001b[39;00m \u001b[39myt_dlp\u001b[39;00m\n\u001b[1;32m     22\u001b[0m \u001b[39mexcept\u001b[39;00m \u001b[39mImportError\u001b[39;00m:\n",
      "\u001b[0;31mModuleNotFoundError\u001b[0m: No module named 'yt_dlp'",
      "\nDuring handling of the above exception, another exception occurred:\n",
      "\u001b[0;31mImportError\u001b[0m                               Traceback (most recent call last)",
      "Cell \u001b[0;32mIn[35], line 5\u001b[0m\n\u001b[1;32m      2\u001b[0m save_dir \u001b[39m=\u001b[39m \u001b[39m\"\u001b[39m\u001b[39mdocs/youtube/\u001b[39m\u001b[39m\"\u001b[39m\n\u001b[1;32m      4\u001b[0m loader \u001b[39m=\u001b[39m GenericLoader(YoutubeAudioLoader([url],save_dir), OpenAIWhisperParser())\n\u001b[0;32m----> 5\u001b[0m loader\u001b[39m.\u001b[39;49mload()\n",
      "File \u001b[0;32m/opt/homebrew/Caskroom/miniconda/base/envs/myenv/lib/python3.10/site-packages/langchain_core/document_loaders/base.py:31\u001b[0m, in \u001b[0;36mBaseLoader.load\u001b[0;34m(self)\u001b[0m\n\u001b[1;32m     29\u001b[0m \u001b[39mdef\u001b[39;00m \u001b[39mload\u001b[39m(\u001b[39mself\u001b[39m) \u001b[39m-\u001b[39m\u001b[39m>\u001b[39m \u001b[39mlist\u001b[39m[Document]:\n\u001b[1;32m     30\u001b[0m \u001b[39m    \u001b[39m\u001b[39m\"\"\"Load data into Document objects.\"\"\"\u001b[39;00m\n\u001b[0;32m---> 31\u001b[0m     \u001b[39mreturn\u001b[39;00m \u001b[39mlist\u001b[39;49m(\u001b[39mself\u001b[39;49m\u001b[39m.\u001b[39;49mlazy_load())\n",
      "File \u001b[0;32m/opt/homebrew/Caskroom/miniconda/base/envs/myenv/lib/python3.10/site-packages/langchain_community/document_loaders/generic.py:115\u001b[0m, in \u001b[0;36mGenericLoader.lazy_load\u001b[0;34m(self)\u001b[0m\n\u001b[1;32m    111\u001b[0m \u001b[39mdef\u001b[39;00m \u001b[39mlazy_load\u001b[39m(\n\u001b[1;32m    112\u001b[0m     \u001b[39mself\u001b[39m,\n\u001b[1;32m    113\u001b[0m ) \u001b[39m-\u001b[39m\u001b[39m>\u001b[39m Iterator[Document]:\n\u001b[1;32m    114\u001b[0m \u001b[39m    \u001b[39m\u001b[39m\"\"\"Load documents lazily. Use this when working at a large scale.\"\"\"\u001b[39;00m\n\u001b[0;32m--> 115\u001b[0m     \u001b[39mfor\u001b[39;00m blob \u001b[39min\u001b[39;00m \u001b[39mself\u001b[39m\u001b[39m.\u001b[39mblob_loader\u001b[39m.\u001b[39myield_blobs():  \u001b[39m# type: ignore[attr-defined]\u001b[39;00m\n\u001b[1;32m    116\u001b[0m         \u001b[39myield from\u001b[39;00m \u001b[39mself\u001b[39m\u001b[39m.\u001b[39mblob_parser\u001b[39m.\u001b[39mlazy_parse(blob)\n",
      "File \u001b[0;32m/opt/homebrew/Caskroom/miniconda/base/envs/myenv/lib/python3.10/site-packages/langchain_community/document_loaders/blob_loaders/youtube_audio.py:23\u001b[0m, in \u001b[0;36mYoutubeAudioLoader.yield_blobs\u001b[0;34m(self)\u001b[0m\n\u001b[1;32m     21\u001b[0m     \u001b[39mimport\u001b[39;00m \u001b[39myt_dlp\u001b[39;00m\n\u001b[1;32m     22\u001b[0m \u001b[39mexcept\u001b[39;00m \u001b[39mImportError\u001b[39;00m:\n\u001b[0;32m---> 23\u001b[0m     \u001b[39mraise\u001b[39;00m \u001b[39mImportError\u001b[39;00m(\n\u001b[1;32m     24\u001b[0m         \u001b[39m\"\u001b[39m\u001b[39myt_dlp package not found, please install it with \u001b[39m\u001b[39m\"\u001b[39m\n\u001b[1;32m     25\u001b[0m         \u001b[39m\"\u001b[39m\u001b[39m`pip install yt_dlp`\u001b[39m\u001b[39m\"\u001b[39m\n\u001b[1;32m     26\u001b[0m     )\n\u001b[1;32m     28\u001b[0m \u001b[39m# Use yt_dlp to download audio given a YouTube url\u001b[39;00m\n\u001b[1;32m     29\u001b[0m ydl_opts \u001b[39m=\u001b[39m {\n\u001b[1;32m     30\u001b[0m     \u001b[39m\"\u001b[39m\u001b[39mformat\u001b[39m\u001b[39m\"\u001b[39m: \u001b[39m\"\u001b[39m\u001b[39mm4a/bestaudio/best\u001b[39m\u001b[39m\"\u001b[39m,\n\u001b[1;32m     31\u001b[0m     \u001b[39m\"\u001b[39m\u001b[39mnoplaylist\u001b[39m\u001b[39m\"\u001b[39m: \u001b[39mTrue\u001b[39;00m,\n\u001b[0;32m   (...)\u001b[0m\n\u001b[1;32m     38\u001b[0m     ],\n\u001b[1;32m     39\u001b[0m }\n",
      "\u001b[0;31mImportError\u001b[0m: yt_dlp package not found, please install it with `pip install yt_dlp`"
     ]
    }
   ],
   "source": [
    "url=\"https://www.youtube.com/watch?v=jGwO_UgTS7I\"\n",
    "save_dir = \"docs/youtube/\"\n",
    "\n",
    "loader = GenericLoader(YoutubeAudioLoader([url],save_dir), OpenAIWhisperParser())\n",
    "loader.load()"
   ]
  },
  {
   "cell_type": "code",
   "execution_count": null,
   "metadata": {},
   "outputs": [],
   "source": []
  }
 ],
 "metadata": {
  "kernelspec": {
   "display_name": "venv-lanchain",
   "language": "python",
   "name": "python3"
  },
  "language_info": {
   "codemirror_mode": {
    "name": "ipython",
    "version": 3
   },
   "file_extension": ".py",
   "mimetype": "text/x-python",
   "name": "python",
   "nbconvert_exporter": "python",
   "pygments_lexer": "ipython3",
   "version": "3.10.15"
  },
  "orig_nbformat": 4
 },
 "nbformat": 4,
 "nbformat_minor": 2
}
